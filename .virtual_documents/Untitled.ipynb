








!pip install -r requirements.txt








import numpy as np
import glob
from photutils.aperture import CircularAperture
from photutils.aperture import CircularAnnulus
from photutils.aperture import aperture_photometry
from photutils.utils import calc_total_error
from scipy.stats import mode
from astropy.coordinates import SkyCoord
from astropy import units as u
from astropy.io import fits
from astropy.wcs import WCS
from astropy.table import Table





#Hiperparámetros

center_box_size=7
carpeta_fits = './Data/SPITZER/'


archivos = glob.glob(carpeta_fits + '*.fits')

