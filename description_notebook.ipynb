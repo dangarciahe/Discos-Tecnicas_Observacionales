{
 "cells": [
  {
   "cell_type": "markdown",
   "id": "b7f8e62d-bc62-4a89-9625-56064944ae6c",
   "metadata": {},
   "source": [
    "# Código para desarrollo del proyecto de Técnicas observacionales"
   ]
  },
  {
   "cell_type": "markdown",
   "id": "af223685-746e-440c-bb18-1314e427bedc",
   "metadata": {},
   "source": [
    "## 1.1 Instalación de las librerías"
   ]
  },
  {
   "cell_type": "markdown",
   "id": "d201adaf-08b9-41f8-8d30-8b5acec54819",
   "metadata": {},
   "source": [
    "Se corre el comando de terminal pip install con el documento .txt que contiene las librerías para poder correr el código"
   ]
  },
  {
   "cell_type": "code",
   "execution_count": 5,
   "id": "2843a7f1-8a2c-495c-8155-6a2c9b9d2ee7",
   "metadata": {},
   "outputs": [
    {
     "name": "stdout",
     "output_type": "stream",
     "text": [
      "Requirement already satisfied: numpy in /home/juanessao2000/anaconda3/lib/python3.11/site-packages (from -r requirements.txt (line 1)) (1.26.4)\n",
      "Requirement already satisfied: photutils in /home/juanessao2000/anaconda3/lib/python3.11/site-packages (from -r requirements.txt (line 2)) (1.12.0)\n",
      "Requirement already satisfied: astropy in /home/juanessao2000/anaconda3/lib/python3.11/site-packages (from -r requirements.txt (line 3)) (5.3.4)\n",
      "Requirement already satisfied: pyerfa>=2.0 in /home/juanessao2000/anaconda3/lib/python3.11/site-packages (from astropy->-r requirements.txt (line 3)) (2.0.0)\n",
      "Requirement already satisfied: PyYAML>=3.13 in /home/juanessao2000/anaconda3/lib/python3.11/site-packages (from astropy->-r requirements.txt (line 3)) (6.0.1)\n",
      "Requirement already satisfied: packaging>=19.0 in /home/juanessao2000/anaconda3/lib/python3.11/site-packages (from astropy->-r requirements.txt (line 3)) (23.2)\n"
     ]
    }
   ],
   "source": [
    "!pip install -r requirements.txt"
   ]
  },
  {
   "cell_type": "markdown",
   "id": "25e37583-cdef-4495-a395-cdf126839b65",
   "metadata": {},
   "source": [
    "## 1.2 Importación de librerías y definición de hiperparámetros"
   ]
  },
  {
   "cell_type": "markdown",
   "id": "ebda28ab-75f4-4868-a983-2ae694bdb812",
   "metadata": {},
   "source": [
    "Aquí importamos las librerías y funciones de las cuales se hará uso en el código."
   ]
  },
  {
   "cell_type": "code",
   "execution_count": null,
   "id": "e25f6808-881a-43a4-9cf9-8b52a54adbee",
   "metadata": {},
   "outputs": [],
   "source": [
    "import numpy as np\n",
    "import glob\n",
    "from photutils.aperture import CircularAperture\n",
    "from photutils.aperture import CircularAnnulus\n",
    "from photutils.aperture import aperture_photometry\n",
    "from photutils.utils import calc_total_error\n",
    "from scipy.stats import mode\n",
    "from astropy.coordinates import SkyCoord\n",
    "from astropy import units as u\n",
    "from astropy.io import fits\n",
    "from astropy.wcs import WCS\n",
    "from astropy.table import Table"
   ]
  },
  {
   "cell_type": "markdown",
   "id": "7ef6d0e8-990b-4bb8-aa15-3693891d8b00",
   "metadata": {},
   "source": [
    "Posteriormente colocamos las variables con el camino en el cual se encuentran los datos `.fits` y `.tsv` y el camino en donde queremos guardar el archivo final `.csv`"
   ]
  },
  {
   "cell_type": "code",
   "execution_count": 3,
   "id": "f79d4e74-fe39-4c11-8d61-b805b25eb3fe",
   "metadata": {},
   "outputs": [],
   "source": [
    "#Hiperparámetros\n",
    "\n",
    "center_box_size=7\n",
    "carpeta_fits = './Data/SPITZER/'"
   ]
  },
  {
   "cell_type": "code",
   "execution_count": 4,
   "id": "28871440-1795-494a-b74f-e34d1d5f00ef",
   "metadata": {},
   "outputs": [
    {
     "ename": "NameError",
     "evalue": "name 'carpeta_fits' is not defined",
     "output_type": "error",
     "traceback": [
      "\u001b[0;31m---------------------------------------------------------------------------\u001b[0m",
      "\u001b[0;31mNameError\u001b[0m                                 Traceback (most recent call last)",
      "Cell \u001b[0;32mIn[4], line 1\u001b[0m\n\u001b[0;32m----> 1\u001b[0m archivos \u001b[38;5;241m=\u001b[39m glob\u001b[38;5;241m.\u001b[39mglob(carpeta_fits \u001b[38;5;241m+\u001b[39m \u001b[38;5;124m'\u001b[39m\u001b[38;5;124m*.fits\u001b[39m\u001b[38;5;124m'\u001b[39m)\n",
      "\u001b[0;31mNameError\u001b[0m: name 'carpeta_fits' is not defined"
     ]
    }
   ],
   "source": [
    "archivos = glob.glob(carpeta_fits + '*.fits')\n"
   ]
  }
 ],
 "metadata": {
  "kernelspec": {
   "display_name": "Python 3 (ipykernel)",
   "language": "python",
   "name": "python3"
  },
  "language_info": {
   "codemirror_mode": {
    "name": "ipython",
    "version": 3
   },
   "file_extension": ".py",
   "mimetype": "text/x-python",
   "name": "python",
   "nbconvert_exporter": "python",
   "pygments_lexer": "ipython3",
   "version": "3.11.8"
  }
 },
 "nbformat": 4,
 "nbformat_minor": 5
}
